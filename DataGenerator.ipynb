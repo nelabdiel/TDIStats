{
 "cells": [
  {
   "cell_type": "code",
   "execution_count": 1,
   "metadata": {},
   "outputs": [],
   "source": [
    "#import pymc\n",
    "import numpy as np\n",
    "import matplotlib\n",
    "import scipy as sp\n",
    "%matplotlib inline\n",
    "import math\n",
    "import seaborn as sns\n",
    "import scipy.stats as sps\n",
    "from scipy.stats import norm\n",
    "import matplotlib.pyplot as plt\n",
    "import pandas as pd"
   ]
  },
  {
   "cell_type": "markdown",
   "metadata": {},
   "source": [
    "# Lets generate data from two distributions to use on the T Test problem."
   ]
  },
  {
   "cell_type": "code",
   "execution_count": 39,
   "metadata": {},
   "outputs": [
    {
     "name": "stdout",
     "output_type": "stream",
     "text": [
      "Sample descriptive statistics:\n",
      "             point\n",
      "count  1000.000000\n",
      "mean     19.593206\n",
      "std      12.033193\n",
      "min     -25.567622\n",
      "25%      11.502837\n",
      "50%      19.959210\n",
      "75%      27.946108\n",
      "max      60.893027\n"
     ]
    },
    {
     "data": {
      "image/png": "[encoded data removed]",
      "text/plain": [
       "<matplotlib.figure.Figure at 0x120013da0>"
      ]
     },
     "metadata": {},
     "output_type": "display_data"
    }
   ],
   "source": [
    "# Define parameters for normal distribution.\n",
    "mu = 20\n",
    "sigma = 12\n",
    "rng = range(-30,80)\n",
    "\n",
    "# Generate normal distribution with given mean and standard deviation.\n",
    "dist = norm(mu, sigma)\n",
    "\n",
    "\n",
    "# Draw 1000 samples from the random variable.\n",
    "sample = dist.rvs(size=1000)\n",
    "sampleDF = pd.DataFrame(sample)\n",
    "sampleDF.columns = ['point']\n",
    "print(\"Sample descriptive statistics:\")\n",
    "print(sampleDF.describe())\n",
    "\n",
    "\n",
    "# Plot a histogram of the samples.\n",
    "plt.subplot(313)\n",
    "plt.hist(sample, bins=100, normed=True)\n",
    "plt.plot(rng, dist.pdf(rng), 'r--', linewidth=2)\n",
    "plt.title('1,000 random samples from normal distribution')\n",
    "\n",
    "# Show all plots.\n",
    "plt.show()\n",
    "\n",
    "sampleDF.to_csv('data1.csv')"
   ]
  },
  {
   "cell_type": "code",
   "execution_count": 45,
   "metadata": {},
   "outputs": [
    {
     "name": "stdout",
     "output_type": "stream",
     "text": [
      "Sample descriptive statistics:\n",
      "             point\n",
      "count  1000.000000\n",
      "mean     20.615436\n",
      "std      10.811155\n",
      "min     -15.775726\n",
      "25%      13.271420\n",
      "50%      20.915049\n",
      "75%      27.872173\n",
      "max      59.437148\n"
     ]
    },
    {
     "data": {
      "image/png": "[encoded data removed]",
      "text/plain": [
       "<matplotlib.figure.Figure at 0x11fcbc2e8>"
      ]
     },
     "metadata": {},
     "output_type": "display_data"
    }
   ],
   "source": [
    "# Define parameters for normal distribution.\n",
    "mu = 21\n",
    "sigma = 11\n",
    "rng = range(5,45)\n",
    "\n",
    "# Generate normal distribution with given mean and standard deviation.\n",
    "dist = norm(mu, sigma)\n",
    "\n",
    "# Draw 1000 samples from the random variable.\n",
    "sample = dist.rvs(size=1000)\n",
    "\n",
    "\n",
    "sampleDF = pd.DataFrame(sample)\n",
    "sampleDF.columns = ['point']\n",
    "print(\"Sample descriptive statistics:\")\n",
    "print(sampleDF.describe())\n",
    "\n",
    "\n",
    "# Plot a histogram of the samples.\n",
    "plt.subplot(313)\n",
    "plt.hist(sample, bins=100, normed=True)\n",
    "plt.plot(rng, dist.pdf(rng), 'r--', linewidth=2)\n",
    "plt.title('1,000 random samples from normal distribution')\n",
    "\n",
    "# Show all plots.\n",
    "plt.show()\n",
    "\n",
    "sampleDF.to_csv('data2.csv')"
   ]
  },
  {
   "cell_type": "code",
   "execution_count": null,
   "metadata": {
    "collapsed": true
   },
   "outputs": [],
   "source": []
  }
 ],
 "metadata": {
  "kernelspec": {
   "display_name": "Python 3",
   "language": "python",
   "name": "python3"
  },
  "language_info": {
   "codemirror_mode": {
    "name": "ipython",
    "version": 3
   },
   "file_extension": ".py",
   "mimetype": "text/x-python",
   "name": "python",
   "nbconvert_exporter": "python",
   "pygments_lexer": "ipython3",
   "version": "3.6.1"
  }
 },
 "nbformat": 4,
 "nbformat_minor": 2
}
